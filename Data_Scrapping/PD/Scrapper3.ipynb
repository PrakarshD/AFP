{
 "cells": [
  {
   "cell_type": "code",
   "execution_count": 1,
   "metadata": {},
   "outputs": [],
   "source": [
    "import numpy as np\n",
    "import pandas as pd\n",
    "import matplotlib.pyplot as plt\n",
    "import datetime as dt\n",
    "import os\n",
    "import itertools\n",
    "import calendar"
   ]
  },
  {
   "cell_type": "code",
   "execution_count": 2,
   "metadata": {},
   "outputs": [],
   "source": [
    "ticker_list = pd.read_csv('/Users/alexandregodard/Desktop/AFP/Python/Scrapper/ticker_lists_to_scrape/list3.csv', header=0, sep=',')['Ticker'].values  ## PATH TO CHANGE - PUT ONE OF YOUR LIST\n",
    "years_list = ['2016','2017','2018','2019','2020']\n",
    "months_list = ['01','02','03','04','05','06','07','08','09','10','11','12']"
   ]
  },
  {
   "cell_type": "code",
   "execution_count": null,
   "metadata": {},
   "outputs": [
    {
     "name": "stdout",
     "output_type": "stream",
     "text": [
      "RELYQ\n",
      "Creation of the directory /Volumes/HD1/DATALAKE/TWEETS/RUSSELL3000/RELYQ failed\n",
      "TMST\n",
      "Creation of the directory /Volumes/HD1/DATALAKE/TWEETS/RUSSELL3000/TMST failed\n",
      "BCRX\n",
      "PESXQ\n",
      "XNCR\n",
      "IRT\n",
      "BHBK\n",
      "SBY\n",
      "ONDK\n",
      "TBK\n",
      "LDRH\n"
     ]
    }
   ],
   "source": [
    "saving_path = \"/Volumes/HD1/DATALAKE/TWEETS/RUSSELL3000/\"  ## PATH TO CHANGE  \n",
    "\n",
    "for ticker in ticker_list:\n",
    "    print(ticker)\n",
    "    path = saving_path + str(ticker) \n",
    "    try:\n",
    "        os.mkdir(path)\n",
    "    except OSError:\n",
    "        print (\"Creation of the directory %s failed\" % path)\n",
    "    \n",
    "    for (year, month) in (itertools.product(years_list, months_list)):\n",
    "        last_day_of_the_month = calendar.monthrange(int(year), int(month))[1]\n",
    "        os.system(\"snscrape --jsonl --max-results 999999999 --since \" + year + \"-\" + month + \"-01 twitter-search '$\" + ticker + \"  until:\" + year + \"-\" + month + \"-\" + str(last_day_of_the_month) + \"' > \" + path + \"/\" + ticker + \"-\" + year + \"-\" + month +\".json\")"
   ]
  },
  {
   "cell_type": "code",
   "execution_count": null,
   "metadata": {},
   "outputs": [],
   "source": []
  },
  {
   "cell_type": "code",
   "execution_count": null,
   "metadata": {},
   "outputs": [],
   "source": []
  },
  {
   "cell_type": "code",
   "execution_count": null,
   "metadata": {},
   "outputs": [],
   "source": []
  },
  {
   "cell_type": "code",
   "execution_count": null,
   "metadata": {},
   "outputs": [],
   "source": []
  }
 ],
 "metadata": {
  "environment": {
   "name": "common-cpu.mnightly-2021-01-05-debian-10-test",
   "type": "gcloud",
   "uri": "gcr.io/deeplearning-platform-release/base-cpu:mnightly-2021-01-05-debian-10-test"
  },
  "kernelspec": {
   "display_name": "Python 3",
   "language": "python",
   "name": "python3"
  },
  "language_info": {
   "codemirror_mode": {
    "name": "ipython",
    "version": 3
   },
   "file_extension": ".py",
   "mimetype": "text/x-python",
   "name": "python",
   "nbconvert_exporter": "python",
   "pygments_lexer": "ipython3",
   "version": "3.7.9"
  }
 },
 "nbformat": 4,
 "nbformat_minor": 4
}
