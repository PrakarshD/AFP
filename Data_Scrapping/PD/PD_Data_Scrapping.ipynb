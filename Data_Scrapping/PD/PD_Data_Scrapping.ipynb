{
 "cells": [
  {
   "cell_type": "code",
   "execution_count": 2,
   "metadata": {},
   "outputs": [
    {
     "name": "stderr",
     "output_type": "stream",
     "text": [
      "/home/jupyter/data_scrapping/data_scrapping_venv/lib/python3.8/site-packages/pandas/compat/__init__.py:97: UserWarning: Could not import the lzma module. Your installed Python is incomplete. Attempting to use lzma compression will result in a RuntimeError.\n",
      "  warnings.warn(msg)\n"
     ]
    }
   ],
   "source": [
    "import numpy as np\n",
    "import pandas as pd\n",
    "import matplotlib.pyplot as plt\n",
    "import datetime as dt\n",
    "import os\n",
    "import itertools\n",
    "import calendar"
   ]
  },
  {
   "cell_type": "code",
   "execution_count": null,
   "metadata": {},
   "outputs": [],
   "source": []
  },
  {
   "cell_type": "code",
   "execution_count": 1,
   "metadata": {},
   "outputs": [
    {
     "ename": "NameError",
     "evalue": "name 'pd' is not defined",
     "output_type": "error",
     "traceback": [
      "\u001b[0;31m---------------------------------------------------------------------------\u001b[0m",
      "\u001b[0;31mNameError\u001b[0m                                 Traceback (most recent call last)",
      "\u001b[0;32m<ipython-input-1-1508cbdb3466>\u001b[0m in \u001b[0;36m<module>\u001b[0;34m\u001b[0m\n\u001b[0;32m----> 1\u001b[0;31m \u001b[0mticker_list\u001b[0m \u001b[0;34m=\u001b[0m \u001b[0mpd\u001b[0m\u001b[0;34m.\u001b[0m\u001b[0mread_csv\u001b[0m\u001b[0;34m(\u001b[0m\u001b[0;34m'./list4.csv'\u001b[0m\u001b[0;34m,\u001b[0m \u001b[0mheader\u001b[0m\u001b[0;34m=\u001b[0m\u001b[0;36m0\u001b[0m\u001b[0;34m,\u001b[0m \u001b[0msep\u001b[0m\u001b[0;34m=\u001b[0m\u001b[0;34m','\u001b[0m\u001b[0;34m)\u001b[0m\u001b[0;34m[\u001b[0m\u001b[0;34m'Ticker'\u001b[0m\u001b[0;34m]\u001b[0m\u001b[0;34m.\u001b[0m\u001b[0mvalues\u001b[0m  \u001b[0;31m## PATH TO CHANGE - PUT ONE OF YOUR LIST\u001b[0m\u001b[0;34m\u001b[0m\u001b[0;34m\u001b[0m\u001b[0m\n\u001b[0m\u001b[1;32m      2\u001b[0m \u001b[0myears_list\u001b[0m \u001b[0;34m=\u001b[0m \u001b[0;34m[\u001b[0m\u001b[0;34m'2016'\u001b[0m\u001b[0;34m,\u001b[0m\u001b[0;34m'2017'\u001b[0m\u001b[0;34m,\u001b[0m\u001b[0;34m'2018'\u001b[0m\u001b[0;34m,\u001b[0m\u001b[0;34m'2019'\u001b[0m\u001b[0;34m,\u001b[0m\u001b[0;34m'2020'\u001b[0m\u001b[0;34m]\u001b[0m\u001b[0;34m\u001b[0m\u001b[0;34m\u001b[0m\u001b[0m\n\u001b[1;32m      3\u001b[0m \u001b[0mmonths_list\u001b[0m \u001b[0;34m=\u001b[0m \u001b[0;34m[\u001b[0m\u001b[0;34m'01'\u001b[0m\u001b[0;34m,\u001b[0m\u001b[0;34m'02'\u001b[0m\u001b[0;34m,\u001b[0m\u001b[0;34m'03'\u001b[0m\u001b[0;34m,\u001b[0m\u001b[0;34m'04'\u001b[0m\u001b[0;34m,\u001b[0m\u001b[0;34m'05'\u001b[0m\u001b[0;34m,\u001b[0m\u001b[0;34m'06'\u001b[0m\u001b[0;34m,\u001b[0m\u001b[0;34m'07'\u001b[0m\u001b[0;34m,\u001b[0m\u001b[0;34m'08'\u001b[0m\u001b[0;34m,\u001b[0m\u001b[0;34m'09'\u001b[0m\u001b[0;34m,\u001b[0m\u001b[0;34m'10'\u001b[0m\u001b[0;34m,\u001b[0m\u001b[0;34m'11'\u001b[0m\u001b[0;34m,\u001b[0m\u001b[0;34m'12'\u001b[0m\u001b[0;34m]\u001b[0m\u001b[0;34m\u001b[0m\u001b[0;34m\u001b[0m\u001b[0m\n",
      "\u001b[0;31mNameError\u001b[0m: name 'pd' is not defined"
     ]
    }
   ],
   "source": [
    "ticker_list = pd.read_csv('./list4.csv', header=0, sep=',')['Ticker'].values  ## PATH TO CHANGE - PUT ONE OF YOUR LIST\n",
    "years_list = ['2016','2017','2018','2019','2020']\n",
    "months_list = ['01','02','03','04','05','06','07','08','09','10','11','12']"
   ]
  },
  {
   "cell_type": "code",
   "execution_count": null,
   "metadata": {},
   "outputs": [],
   "source": []
  },
  {
   "cell_type": "code",
   "execution_count": null,
   "metadata": {},
   "outputs": [],
   "source": [
    "saving_path = os.getcwd()+\"/TWEETS/RUSSELL3000/List3/\"  ## PATH TO CHANGE  \n",
    "\n",
    "for ticker in ticker_list:\n",
    "    print(ticker)\n",
    "    path = saving_path + str(ticker) \n",
    "    try:\n",
    "        os.mkdir(path)\n",
    "    except OSError:\n",
    "        print (\"Creation of the directory %s failed\" % path)\n",
    "    \n",
    "    for (year, month) in (itertools.product(years_list, months_list)):\n",
    "        last_day_of_the_month = calendar.monthrange(int(year), int(month))[1]\n",
    "        #os.system(\"snscrape --jsonl --max-results 999999999 --since \" + year + \"-\" + month + \"-01 twitter-search '$\" + ticker+ \"--until:\" + year + \"-\" + month + \"-\" + str(last_day_of_the_month) + \"' > \" + path + \"/\" + ticker +  \"-\" + year + \"-\" + month +\".json\")\n",
    "        os.system(\"snscrape --jsonl --max-results 999999999 \"+ \" twitter-search '$\" + ticker+ \" > \" + path + \"/\" + ticker +  \"-\" + year + \"-\" + month +\".json\")"
   ]
  },
  {
   "cell_type": "code",
   "execution_count": null,
   "metadata": {},
   "outputs": [],
   "source": []
  },
  {
   "cell_type": "code",
   "execution_count": 3,
   "metadata": {},
   "outputs": [
    {
     "data": {
      "text/plain": [
       "array(['VRSN', 'PWR', 'BRCM', 'BTUUQ', 'EBAY', 'FFIV', 'QEP', 'NUAN',\n",
       "       'SBSI', 'DVN', 'TWC', 'WINMQ', 'FLR', 'AMP', 'KMX', 'ICE', 'CMG',\n",
       "       'POM', 'AIZ', 'RF', 'WYND', 'MJN', 'DFS', 'SNI', 'BLMN', 'AFOP',\n",
       "       'WWD', 'CAR', 'FRM', 'VRNS', 'COLL', 'RM', 'AXAS', 'BMTC',\n",
       "       '1396926D', 'ARDX', 'ESTE', 'BID', 'TGTX', 'ONCE', 'CBPX', 'NHTC',\n",
       "       'BXLT', 'BW', 'SIXD', 'TXMD', 'ICD', 'DGICA', 'AST', 'SPLK',\n",
       "       'KING', 'KITE', 'FCEL', '9999997D', 'AGM', 'FLIC', 'PFPT',\n",
       "       '1566019D', 'ZIXI', 'HUBS', 'MRTX', 'NEOS', 'NVIV', 'PE', 'AKS',\n",
       "       'SUNEQ', 'DPLO', 'QLGC', 'MSFG', 'VALPQ', 'KBH', 'MBI', 'NBBC',\n",
       "       'WFTIQ', 'CRWN', 'HDP', 'XLRN', 'SNV', 'NCR', 'PMCS', 'SANM',\n",
       "       'PTSI', 'ARGO', 'QDEL', 'RENT', 'HIVE', 'SYBT', 'ACHC', 'CDMO',\n",
       "       'THFF', 'TISI', 'EBTC', 'HTBI', 'POZN', 'PSTB', 'USAK', 'HMST',\n",
       "       'WRE', 'XPER', 'NAVI', 'TKR', 'MXPT', '1627457D', 'IMPR', 'OTIC',\n",
       "       'PBPB', 'MXL', 'JAH', 'AGRX', 'LECO', 'SNR', 'GABC', 'TUBE', 'GPI',\n",
       "       'SAGE', 'GCO', 'CYNO', 'QTS', 'SFXEQ', 'SUI', 'EIGI', 'OKSB',\n",
       "       'FNFV', 'SSEIQ', 'PRE', 'VOYA', 'MTDR', 'SLCA', 'VAC', 'FCBC',\n",
       "       'SHEN', 'BANC', 'LADR', 'NOW', 'UUUU', 'FR', 'PGC', 'MTSN', 'METR',\n",
       "       'CPE', 'AMH', 'LION', 'RCAPQ', 'KFRC', 'OPK', 'CTIC', 'OCFC',\n",
       "       'UNISQ', 'TAHO', 'USNA', 'BUSE', 'ELGXQ', 'PAG', 'CDRBQ', 'CERS',\n",
       "       'SEAC', 'GWB', 'FCPT', 'TXTR', 'AAL', '1702253D', 'GLPI', 'LBAI',\n",
       "       'SIRO', 'AHH', 'DGI', 'SAH', 'CLAR', 'DYAX', 'CMLSQ', 'BNCN',\n",
       "       'BEBE', 'ARPI', 'TREX', 'CSLT', 'GIMO', 'POWR', 'BBW', 'BRCD',\n",
       "       'VHC', 'DRRX', 'PFSW', 'BLT', 'ABG', 'H', 'COTY', 'TSYS', 'RKUS',\n",
       "       'PCOA', 'YDKN', 'MNKD', 'CHFN', 'MDAS', 'NNI', 'GTS', 'NPTN',\n",
       "       'MODV', 'SALT', 'FRME', 'CSBK', 'TBPH', 'CTRE', 'CTCT', 'NMBL',\n",
       "       'VA', 'FGEN', 'DPZ', 'EAT', 'CRS', 'CY', 'HURN', 'AGCO', 'CRCQQ',\n",
       "       'EBIX', 'OCAT', 'SLH', 'HNT', 'SUM', 'ATML', 'VTAE', 'AVT', 'EGN',\n",
       "       'LNT', 'CUBE', 'ABCW', 'UPLMQ', 'GMCR', 'MAC', 'RNR', 'SIRI',\n",
       "       'MLM', '1719848D', 'ADS', 'DOC', 'REXR', 'SALE', 'AXS', 'DISCK',\n",
       "       'JGWEQ', 'LYB', 'AVGO', 'QRTEA', 'HTZGQ', 'DG', 'HCA', 'PHH',\n",
       "       'MDGL', 'WTM', 'AEO', 'DBI', 'SD', 'OSK', 'STAR', 'BOX', 'HBI',\n",
       "       'RDN', 'CHS', 'AFSI', 'RXDX', 'DENN', 'STOR', 'SRCI', 'ISBC',\n",
       "       'MUSA', 'BDBD', 'ALDR', 'OPWR', 'NVEE', 'EXXIQ', 'IMPV', 'UEC',\n",
       "       'EYES', 'AWHHF', 'COWN', 'SYA', 'TFM', 'SCMP', 'SPR', 'CLNE',\n",
       "       'BNCL', 'DHX', 'NSM', 'PANW', 'SBH', 'BURL', 'PACB', 'ZINCQ',\n",
       "       'CAI', 'REI', 'TNAV', '1655912D', 'TSLA', 'DFT', 'TRGP', 'MNKKQ',\n",
       "       'CONE', 'LQ', 'UDFI', 'HMHC', 'SLS', 'LPLA', 'CSH', 'CNL', 'IPHI',\n",
       "       'CW', 'DY', 'LEA', 'JACK', 'GATX', 'CALX', 'GGG', 'AVNT', 'CRMD',\n",
       "       'CHTR', 'SR', 'EXPR', 'HPP', 'RPXC', 'GDOT', 'FRANQ', 'OASPQ',\n",
       "       'RLD', 'SJI', 'TRXC', '1448479D', 'FIT', 'SUP', 'TR', 'VRA',\n",
       "       'TIME', 'GNCIQ', 'BOBE', 'LNCE', 'MENT', 'PNRA', 'BHE', 'KNX',\n",
       "       'MYRG', 'VC', 'CKP', 'RLJ', 'RATE', 'MKTO', 'FNB', 'FINL', 'GNCMA',\n",
       "       'HNGR', 'HMSY', 'HTLD', 'IDTI', 'IO', 'LNN', 'ADMS', 'MSCC',\n",
       "       'NDSN', 'NEWP', 'NNN', 'NPBC', 'PDCE', '1850242D', 'PVAHQ', 'SONC',\n",
       "       'MW', 'RLYP', '1558151D', 'LTC', 'WAC', 'CKH', 'BFIN', 'PZZA',\n",
       "       'FRO', 'PLT', 'CPRT', 'NSIT', '1396924D', 'HLIT', 'RWT', 'WAB',\n",
       "       'LSI', 'AFFX', 'ANH', 'IM', 'HUBG', 'JAKK', 'ADC', 'PLCE', 'OVTI',\n",
       "       'BJRI', 'NSP', 'GPORQ', 'EQY', 'RJETQ', 'URI', 'UTIW', 'MRCY',\n",
       "       'WDC', '9999900D', 'UAL', 'DAL', 'ZNGA', 'SNBR', 'KIRK', 'CNC',\n",
       "       'SSINQ', 'ARR', 'IRC', 'SFG', 'TNK', 'IVR', 'PMT', 'TWO',\n",
       "       '1859004D', 'HPY', 'GPN', 'APTV', 'SNECQ', 'SCOR', 'VSI', 'SPOK',\n",
       "       'EQIX', 'PIPR', 'BGS', 'CAB', 'ACC', 'BMR'], dtype=object)"
      ]
     },
     "execution_count": 3,
     "metadata": {},
     "output_type": "execute_result"
    }
   ],
   "source": [
    "ticker_list"
   ]
  },
  {
   "cell_type": "code",
   "execution_count": null,
   "metadata": {},
   "outputs": [],
   "source": []
  }
 ],
 "metadata": {
  "environment": {
   "name": "common-cpu.mnightly-2021-01-05-debian-10-test",
   "type": "gcloud",
   "uri": "gcr.io/deeplearning-platform-release/base-cpu:mnightly-2021-01-05-debian-10-test"
  },
  "kernelspec": {
   "display_name": "data_scrapping_venv",
   "language": "python",
   "name": "data_scrapping_venv"
  },
  "language_info": {
   "codemirror_mode": {
    "name": "ipython",
    "version": 3
   },
   "file_extension": ".py",
   "mimetype": "text/x-python",
   "name": "python",
   "nbconvert_exporter": "python",
   "pygments_lexer": "ipython3",
   "version": "3.8.2"
  }
 },
 "nbformat": 4,
 "nbformat_minor": 4
}
