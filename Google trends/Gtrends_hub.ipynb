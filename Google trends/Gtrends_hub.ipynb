{
 "cells": [
  {
   "cell_type": "code",
   "execution_count": 6,
   "metadata": {
    "scrolled": true
   },
   "outputs": [
    {
     "name": "stdout",
     "output_type": "stream",
     "text": [
      "Requirement already satisfied: pytrends in /Users/BelghouateKhalil/.local/lib/python3.7/site-packages (4.7.4)\n",
      "Requirement already satisfied: pandas>=0.25 in /opt/anaconda3/lib/python3.7/site-packages (from pytrends) (1.0.1)\n",
      "Requirement already satisfied: requests>=2.0 in /opt/anaconda3/lib/python3.7/site-packages (from pytrends) (2.22.0)\n",
      "Requirement already satisfied: lxml in /opt/anaconda3/lib/python3.7/site-packages (from pytrends) (4.5.0)\n",
      "Requirement already satisfied: python-dateutil>=2.6.1 in /opt/anaconda3/lib/python3.7/site-packages (from pandas>=0.25->pytrends) (2.8.1)\n",
      "Requirement already satisfied: pytz>=2017.2 in /opt/anaconda3/lib/python3.7/site-packages (from pandas>=0.25->pytrends) (2019.3)\n",
      "Requirement already satisfied: numpy>=1.13.3 in /opt/anaconda3/lib/python3.7/site-packages (from pandas>=0.25->pytrends) (1.18.1)\n",
      "Requirement already satisfied: urllib3!=1.25.0,!=1.25.1,<1.26,>=1.21.1 in /opt/anaconda3/lib/python3.7/site-packages (from requests>=2.0->pytrends) (1.25.8)\n",
      "Requirement already satisfied: chardet<3.1.0,>=3.0.2 in /opt/anaconda3/lib/python3.7/site-packages (from requests>=2.0->pytrends) (3.0.4)\n",
      "Requirement already satisfied: idna<2.9,>=2.5 in /opt/anaconda3/lib/python3.7/site-packages (from requests>=2.0->pytrends) (2.8)\n",
      "Requirement already satisfied: certifi>=2017.4.17 in /opt/anaconda3/lib/python3.7/site-packages (from requests>=2.0->pytrends) (2019.11.28)\n",
      "Requirement already satisfied: six>=1.5 in /opt/anaconda3/lib/python3.7/site-packages (from python-dateutil>=2.6.1->pandas>=0.25->pytrends) (1.14.0)\n"
     ]
    }
   ],
   "source": [
    "## Install pytrends\n",
    "!pip install pytrends\n",
    "#pip install --upgrade --user git+https://github.com/GeneralMills/pytrends"
   ]
  },
  {
   "cell_type": "code",
   "execution_count": 12,
   "metadata": {},
   "outputs": [],
   "source": [
    "## Import lib - Add pytrends which allows to connect to Google trends db\n",
    "import pandas as pd\n",
    "import time\n",
    "import matplotlib.pyplot as plt\n",
    "from pytrends.request import TrendReq"
   ]
  },
  {
   "cell_type": "markdown",
   "metadata": {},
   "source": [
    "# Connection to Google server"
   ]
  },
  {
   "cell_type": "code",
   "execution_count": 37,
   "metadata": {},
   "outputs": [],
   "source": [
    "## Connect to google\n",
    "#pytrend = TrendReq()#(backoff_factor=1, retries=2)#backoff_factor=1, retries=5, proxies=['https://34.203.233.13:80',])#, timeout=(9.5,25))\n",
    "pytrend = TrendReq(backoff_factor=1, retries=3)"
   ]
  },
  {
   "cell_type": "markdown",
   "metadata": {},
   "source": [
    "## 1.Tesla example"
   ]
  },
  {
   "cell_type": "code",
   "execution_count": 40,
   "metadata": {},
   "outputs": [
    {
     "data": {
      "text/plain": [
       "<matplotlib.axes._subplots.AxesSubplot at 0x11d52ea90>"
      ]
     },
     "execution_count": 40,
     "metadata": {},
     "output_type": "execute_result"
    },
    {
     "data": {
      "image/png": "[encoded data removed]",
      "text/plain": [
       "<Figure size 432x288 with 1 Axes>"
      ]
     },
     "metadata": {
      "needs_background": "light"
     },
     "output_type": "display_data"
    }
   ],
   "source": [
    "## Google search results\n",
    "'''\n",
    "- Expressed to the highest point on the chart for the given region and time. \n",
    "- A value of 100 is the peak popularity for the term. A value of 50 means that the term is half as popular.\n",
    "- A score of 0 means there was not enough data for this term.\n",
    "'''\n",
    "time.sleep(1)\n",
    "pytrend.build_payload(kw_list=['TSLA'], cat=0, timeframe='2020-01-01 2020-12-31', geo='US')\n",
    "gtrends_by_keyword = pytrend.interest_over_time()\n",
    "gtrends_by_keyword.drop(labels=['isPartial'],axis='columns')\n",
    "gtrends_by_keyword.plot()"
   ]
  },
  {
   "cell_type": "code",
   "execution_count": null,
   "metadata": {
    "scrolled": true
   },
   "outputs": [],
   "source": [
    "## Google trends results for TSLA for 2020\n",
    "gtrends_by_keyword"
   ]
  },
  {
   "cell_type": "code",
   "execution_count": null,
   "metadata": {
    "scrolled": true
   },
   "outputs": [],
   "source": [
    "related_topic = pytrend.related_topics()\n",
    "related_topic.values()"
   ]
  },
  {
   "cell_type": "code",
   "execution_count": null,
   "metadata": {
    "scrolled": true
   },
   "outputs": [],
   "source": [
    "related_queries = pytrend.related_queries()\n",
    "related_queries.values()"
   ]
  },
  {
   "cell_type": "markdown",
   "metadata": {},
   "source": [
    "## Main - Focus on Russell 3000"
   ]
  },
  {
   "cell_type": "code",
   "execution_count": 14,
   "metadata": {},
   "outputs": [
    {
     "name": "stdout",
     "output_type": "stream",
     "text": [
      "- length of tickers' list:  4252 \n",
      "- length of tickers' list:  4252\n"
     ]
    }
   ],
   "source": [
    "colnames = [\"Tickers\", \"BBG Tickers\", \"Names\"]\n",
    "df = pd.read_csv(\"RUSSELL3000.csv\", names=colnames)[1:]\n",
    "tickers_list = df[\"Tickers\"].values.tolist()\n",
    "names_list = df[\"Names\"].values.tolist()\n",
    "#years_list = list(range(2016, 2021, 1))\n",
    "start=2016\n",
    "end=2020\n",
    "print(\"- length of tickers' list: \", len(tickers_list), \"\\n- length of tickers' list: \", len(names_list))"
   ]
  },
  {
   "cell_type": "code",
   "execution_count": 15,
   "metadata": {},
   "outputs": [],
   "source": [
    "## US Google search results by keyword and year\n",
    "def gtrends_by_keyword(keyword='TSLA', category=0, year_start=start, year_end=end, loc='US'): \n",
    "    '''\n",
    "    === GENERAL RULES ===\n",
    "    - Expressed to the highest point on the chart for the given region and time. \n",
    "    - A value of 100 is the peak popularity for the term. A value of 50 means that the term is half as popular.\n",
    "    - A score of 0 means there was not enough data for this term.\n",
    "    \n",
    "    === SPECIFIC RULES ===\n",
    "    - keyword is the keyword to search,\n",
    "    - loc is a certain country code, e.g ‘US’, or ‘’ for worldwide\n",
    "    - cat is the category and is set to 0 to seek into 'All category', for 'Food & Drink' category, set to 71,\n",
    "    - year is set by default to 2020\n",
    "    '''\n",
    "    #time.sleep(1)\n",
    "    #Enter try to manage proper input type\n",
    "            \n",
    "    pytrend.build_payload(kw_list=[keyword], \n",
    "                          cat=category, \n",
    "                          timeframe= str(year_start) + '-01-01 ' + str(year_end) + '-12-31', \n",
    "                          geo=loc)\n",
    "    gtrends_by_keyword = pytrend.interest_over_time()\n",
    "    return gtrends_by_keyword"
   ]
  },
  {
   "cell_type": "code",
   "execution_count": 15,
   "metadata": {},
   "outputs": [
    {
     "data": {
      "text/plain": [
       "\"def gtrends_by_keyword(key='TSLA', category=0, period=years_list, loc='US'):\\n    \\n    === SPECIFIC RULES ===\\n    - keyword is the keyword to search,\\n    - loc is set to certain country code, e.g ‘US’, or ‘’ for worldwide\\n    - cat is set to 0 to seek into 'All category', for 'Food & Drink' category, set to 71,\\n    - period is a an array of years \\n    \\n    result = pd.DataFrame(columns=[key])\\n    for y in years_list:\\n        time.sleep(0.2)\\n        temp_result = gtrends_by_keyword_and_year(keyword=key, category=category, year=y, loc=loc)\\n        if not temp_result.empty:\\n            temp_result = temp_result.drop(labels=['isPartial'],axis='columns')\\n            result = pd.concat([result, temp_result])\\n    return result\\n    \\n\""
      ]
     },
     "execution_count": 15,
     "metadata": {},
     "output_type": "execute_result"
    }
   ],
   "source": [
    "## Weekly US Google serach results by keyword since 2016 for 5 years\n",
    "'''def gtrends_by_keyword(key='TSLA', category=0, period=years_list, loc='US'):\n",
    "    \n",
    "    === SPECIFIC RULES ===\n",
    "    - keyword is the keyword to search,\n",
    "    - loc is set to certain country code, e.g ‘US’, or ‘’ for worldwide\n",
    "    - cat is set to 0 to seek into 'All category', for 'Food & Drink' category, set to 71,\n",
    "    - period is a an array of years \n",
    "    \n",
    "    result = pd.DataFrame(columns=[key])\n",
    "    for y in years_list:\n",
    "        time.sleep(0.2)\n",
    "        temp_result = gtrends_by_keyword_and_year(keyword=key, category=category, year=y, loc=loc)\n",
    "        if not temp_result.empty:\n",
    "            temp_result = temp_result.drop(labels=['isPartial'],axis='columns')\n",
    "            result = pd.concat([result, temp_result])\n",
    "    return result\n",
    "    \n",
    "'''"
   ]
  },
  {
   "cell_type": "code",
   "execution_count": 16,
   "metadata": {},
   "outputs": [
    {
     "data": {
      "text/html": [
       "<div>\n",
       "<style scoped>\n",
       "    .dataframe tbody tr th:only-of-type {\n",
       "        vertical-align: middle;\n",
       "    }\n",
       "\n",
       "    .dataframe tbody tr th {\n",
       "        vertical-align: top;\n",
       "    }\n",
       "\n",
       "    .dataframe thead th {\n",
       "        text-align: right;\n",
       "    }\n",
       "</style>\n",
       "<table border=\"1\" class=\"dataframe\">\n",
       "  <thead>\n",
       "    <tr style=\"text-align: right;\">\n",
       "      <th></th>\n",
       "      <th>TSLA</th>\n",
       "      <th>isPartial</th>\n",
       "    </tr>\n",
       "    <tr>\n",
       "      <th>date</th>\n",
       "      <th></th>\n",
       "      <th></th>\n",
       "    </tr>\n",
       "  </thead>\n",
       "  <tbody>\n",
       "    <tr>\n",
       "      <th>2016-01-03</th>\n",
       "      <td>5</td>\n",
       "      <td>False</td>\n",
       "    </tr>\n",
       "    <tr>\n",
       "      <th>2016-01-10</th>\n",
       "      <td>4</td>\n",
       "      <td>False</td>\n",
       "    </tr>\n",
       "    <tr>\n",
       "      <th>2016-01-17</th>\n",
       "      <td>4</td>\n",
       "      <td>False</td>\n",
       "    </tr>\n",
       "    <tr>\n",
       "      <th>2016-01-24</th>\n",
       "      <td>5</td>\n",
       "      <td>False</td>\n",
       "    </tr>\n",
       "    <tr>\n",
       "      <th>2016-01-31</th>\n",
       "      <td>6</td>\n",
       "      <td>False</td>\n",
       "    </tr>\n",
       "    <tr>\n",
       "      <th>...</th>\n",
       "      <td>...</td>\n",
       "      <td>...</td>\n",
       "    </tr>\n",
       "    <tr>\n",
       "      <th>2020-11-29</th>\n",
       "      <td>46</td>\n",
       "      <td>False</td>\n",
       "    </tr>\n",
       "    <tr>\n",
       "      <th>2020-12-06</th>\n",
       "      <td>51</td>\n",
       "      <td>False</td>\n",
       "    </tr>\n",
       "    <tr>\n",
       "      <th>2020-12-13</th>\n",
       "      <td>49</td>\n",
       "      <td>False</td>\n",
       "    </tr>\n",
       "    <tr>\n",
       "      <th>2020-12-20</th>\n",
       "      <td>42</td>\n",
       "      <td>False</td>\n",
       "    </tr>\n",
       "    <tr>\n",
       "      <th>2020-12-27</th>\n",
       "      <td>32</td>\n",
       "      <td>False</td>\n",
       "    </tr>\n",
       "  </tbody>\n",
       "</table>\n",
       "<p>261 rows × 2 columns</p>\n",
       "</div>"
      ],
      "text/plain": [
       "            TSLA  isPartial\n",
       "date                       \n",
       "2016-01-03     5      False\n",
       "2016-01-10     4      False\n",
       "2016-01-17     4      False\n",
       "2016-01-24     5      False\n",
       "2016-01-31     6      False\n",
       "...          ...        ...\n",
       "2020-11-29    46      False\n",
       "2020-12-06    51      False\n",
       "2020-12-13    49      False\n",
       "2020-12-20    42      False\n",
       "2020-12-27    32      False\n",
       "\n",
       "[261 rows x 2 columns]"
      ]
     },
     "execution_count": 16,
     "metadata": {},
     "output_type": "execute_result"
    }
   ],
   "source": [
    "# Test of the get_gtrends_by_keyword function\n",
    "result = gtrends_by_keyword()\n",
    "result"
   ]
  },
  {
   "cell_type": "code",
   "execution_count": 16,
   "metadata": {},
   "outputs": [],
   "source": [
    "## US Google search results over time (5 years) for all tickers of Russell3000\n",
    "def gtrends(keywords_list=[], cat=0, starting_year=start, ending_year=end, geo='US'):\n",
    "    ''' \n",
    "    - keywords_list is a list of keywords to search,\n",
    "    - loc is set to certain country code, e.g ‘US’, or ‘’ for worldwide\n",
    "    - cat is set to 0 to seek into 'All category', for 'Food & Drink' category, set to 71,\n",
    "    - timeframe is set by default to past 5 years 'today 5-y', for 2004 to present, set it to 'all'\n",
    "    '''\n",
    "    \n",
    "    gt = []\n",
    "    for i in range(len(keywords_list)):\n",
    "        gtrends_by_key = gtrends_by_keyword(keyword=keywords_list[i],\n",
    "                                            category=cat,\n",
    "                                            year_start=starting_year,\n",
    "                                            year_end=ending_year,\n",
    "                                            loc=geo)\n",
    "        if not gtrends_by_key.empty:\n",
    "            gtrends_by_key = gtrends_by_key.drop(labels=['isPartial'],axis='columns')\n",
    "            gt.append(gtrends_by_key)\n",
    "    result = pd.concat(gt, axis=1)\n",
    "    return result\n",
    "    #result.to_csv('Russell3000_GoogleSearch_' + serie_name + '.csv')"
   ]
  },
  {
   "cell_type": "code",
   "execution_count": 38,
   "metadata": {},
   "outputs": [
    {
     "name": "stdout",
     "output_type": "stream",
     "text": [
      "Requesting google search for ticker number:  559\n",
      "Ticker  559  is built \n",
      "\n",
      "Requesting google search for ticker number:  560\n",
      "Ticker  560  is built \n",
      "\n",
      "Requesting google search for ticker number:  561\n",
      "Ticker  561  is built \n",
      "\n",
      "Requesting google search for ticker number:  562\n",
      "Ticker  562  is built \n",
      "\n",
      "Requesting google search for ticker number:  563\n",
      "Ticker  563  is built \n",
      "\n",
      "Requesting google search for ticker number:  564\n",
      "Ticker  564  is built \n",
      "\n",
      "Requesting google search for ticker number:  565\n",
      "Ticker  565  is built \n",
      "\n",
      "Requesting google search for ticker number:  566\n",
      "Ticker  566  is built \n",
      "\n",
      "Requesting google search for ticker number:  567\n",
      "Ticker  567  is built \n",
      "\n",
      "Requesting google search for ticker number:  568\n",
      "Ticker  568  is built \n",
      "\n",
      "Requesting google search for ticker number:  569\n",
      "Ticker  569  is built \n",
      "\n",
      "Requesting google search for ticker number:  570\n",
      "Ticker  570  is built \n",
      "\n",
      "Requesting google search for ticker number:  571\n",
      "Ticker  571  is built \n",
      "\n",
      "Requesting google search for ticker number:  572\n",
      "Ticker  572  is built \n",
      "\n",
      "Requesting google search for ticker number:  573\n",
      "Ticker  573  is built \n",
      "\n",
      "Requesting google search for ticker number:  574\n",
      "Ticker  574  is built \n",
      "\n",
      "Requesting google search for ticker number:  575\n",
      "Ticker  575  is built \n",
      "\n",
      "Requesting google search for ticker number:  576\n",
      "Ticker  576  is built \n",
      "\n",
      "Requesting google search for ticker number:  577\n",
      "Ticker  577  is built \n",
      "\n",
      "Requesting google search for ticker number:  578\n",
      "Ticker  578  is built \n",
      "\n",
      "Requesting google search for ticker number:  579\n",
      "Ticker  579  is built \n",
      "\n",
      "Requesting google search for ticker number:  580\n",
      "Ticker  580  is built \n",
      "\n",
      "Requesting google search for ticker number:  581\n",
      "Ticker  581  is built \n",
      "\n",
      "Requesting google search for ticker number:  582\n",
      "Ticker  582  is built \n",
      "\n",
      "Requesting google search for ticker number:  583\n",
      "Ticker  583  is built \n",
      "\n",
      "Requesting google search for ticker number:  584\n",
      "Ticker  584  is built \n",
      "\n",
      "Requesting google search for ticker number:  585\n",
      "Ticker  585  is built \n",
      "\n",
      "Requesting google search for ticker number:  586\n",
      "Ticker  586  is built \n",
      "\n",
      "Requesting google search for ticker number:  587\n",
      "Ticker  587  is built \n",
      "\n",
      "Requesting google search for ticker number:  588\n",
      "Ticker  588  is built \n",
      "\n",
      "Requesting google search for ticker number:  589\n",
      "Ticker  589  is built \n",
      "\n",
      "Requesting google search for ticker number:  590\n",
      "Ticker  590  is built \n",
      "\n",
      "Requesting google search for ticker number:  591\n",
      "Ticker  591  is built \n",
      "\n",
      "Requesting google search for ticker number:  592\n",
      "Ticker  592  is built \n",
      "\n",
      "Requesting google search for ticker number:  593\n",
      "Ticker  593  is built \n",
      "\n",
      "Requesting google search for ticker number:  594\n",
      "Ticker  594  is built \n",
      "\n",
      "Requesting google search for ticker number:  595\n",
      "Ticker  595  is built \n",
      "\n",
      "Requesting google search for ticker number:  596\n",
      "Ticker  596  is built \n",
      "\n",
      "Requesting google search for ticker number:  597\n",
      "Ticker  597  is built \n",
      "\n",
      "Requesting google search for ticker number:  598\n",
      "Ticker  598  is built \n",
      "\n",
      "Requesting google search for ticker number:  599\n",
      "Ticker  599  is built \n",
      "\n",
      "Requesting google search for ticker number:  600\n",
      "Ticker  600  is built \n",
      "\n",
      "Requesting google search for ticker number:  601\n",
      "Ticker  601  is built \n",
      "\n",
      "Requesting google search for ticker number:  602\n",
      "Ticker  602  is built \n",
      "\n",
      "Requesting google search for ticker number:  603\n",
      "Ticker  603  is built \n",
      "\n",
      "Requesting google search for ticker number:  604\n",
      "Ticker  604  is built \n",
      "\n",
      "Requesting google search for ticker number:  605\n",
      "Ticker  605  is built \n",
      "\n",
      "Requesting google search for ticker number:  606\n",
      "Ticker  606  is built \n",
      "\n",
      "Requesting google search for ticker number:  607\n",
      "Ticker  607  is built \n",
      "\n",
      "Execution time in sec.: 721.2569439411163\n"
     ]
    }
   ],
   "source": [
    "## Main execution\n",
    "\n",
    "# Number of tickers to be requested by minute (knowing that: 5y of weekly data by ticker)\n",
    "# Limit by google is 2000 calls per minute\n",
    "Nb = 7 \n",
    "\n",
    "# width of range to scan all Russell 3000 list\n",
    "modulo=len(tickers_list)//Nb + 1\n",
    "\n",
    "\n",
    "## Build result\n",
    "\n",
    "# Start time\n",
    "startTime = time.time()\n",
    "\n",
    "result=[]\n",
    "\n",
    "# last ticker position built\n",
    "last_built=559\n",
    "for i in range(last_built,modulo):\n",
    "    print(\"Requesting google search for ticker number: \", i)\n",
    "    if Nb*(i+1)<=len(tickers_list):\n",
    "        gtrends_temp = gtrends(keywords_list=tickers_list[Nb*i:Nb*(i+1)])\n",
    "    else:\n",
    "        gtrends_temp = gtrends(keywords_list=tickers_list[Nb*i:])\n",
    "    if not gtrends_temp.empty:\n",
    "        result.append(gtrends_temp)\n",
    "    print(\"Ticker \", i, \" is built \\n\")\n",
    "    time.sleep(5)\n",
    "\n",
    "\n",
    "    \n",
    "#print(\"Sending dataframe to csv...\")\n",
    "#russell_trend = pd.concat(result, axis=1)\n",
    "#russell_trend.to_csv('Russell3000_GoogleSearch_tickers.csv')\n",
    "\n",
    "    \n",
    "# Show time of execution\n",
    "executionTime = (time.time() - startTime)\n",
    "print('Execution time in sec.: ' + str(executionTime))"
   ]
  },
  {
   "cell_type": "code",
   "execution_count": 39,
   "metadata": {},
   "outputs": [],
   "source": [
    "russell_trend = pd.concat(result, axis=1)\n",
    "russell_trend.to_csv('Russell_part13.csv')"
   ]
  },
  {
   "cell_type": "code",
   "execution_count": null,
   "metadata": {},
   "outputs": [],
   "source": []
  }
 ],
 "metadata": {
  "kernelspec": {
   "display_name": "Python 3",
   "language": "python",
   "name": "python3"
  },
  "language_info": {
   "codemirror_mode": {
    "name": "ipython",
    "version": 3
   },
   "file_extension": ".py",
   "mimetype": "text/x-python",
   "name": "python",
   "nbconvert_exporter": "python",
   "pygments_lexer": "ipython3",
   "version": "3.7.6"
  }
 },
 "nbformat": 4,
 "nbformat_minor": 4
}
